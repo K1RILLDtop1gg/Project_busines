{
  "nbformat": 4,
  "nbformat_minor": 0,
  "metadata": {
    "colab": {
      "provenance": []
    },
    "kernelspec": {
      "name": "python3",
      "display_name": "Python 3"
    },
    "language_info": {
      "name": "python"
    }
  },
  "cells": [
    {
      "cell_type": "markdown",
      "source": [
        "Импортим библиотеки"
      ],
      "metadata": {
        "id": "7nsIG-6cUhlz"
      }
    },
    {
      "cell_type": "code",
      "execution_count": 21,
      "metadata": {
        "colab": {
          "base_uri": "https://localhost:8080/"
        },
        "id": "83ecAjepTK0v",
        "outputId": "86b1c686-6a23-416d-f3ba-daaf9cb0ab9e"
      },
      "outputs": [
        {
          "output_type": "stream",
          "name": "stdout",
          "text": [
            "Requirement already satisfied: telethon in /usr/local/lib/python3.11/dist-packages (1.39.0)\n",
            "Requirement already satisfied: pyaes in /usr/local/lib/python3.11/dist-packages (from telethon) (1.6.1)\n",
            "Requirement already satisfied: rsa in /usr/local/lib/python3.11/dist-packages (from telethon) (4.9)\n",
            "Requirement already satisfied: pyasn1>=0.1.3 in /usr/local/lib/python3.11/dist-packages (from rsa->telethon) (0.6.1)\n",
            "Get:1 http://security.ubuntu.com/ubuntu jammy-security InRelease [129 kB]\n",
            "Hit:2 https://developer.download.nvidia.com/compute/cuda/repos/ubuntu2204/x86_64  InRelease\n",
            "Hit:3 https://cloud.r-project.org/bin/linux/ubuntu jammy-cran40/ InRelease\n",
            "Hit:4 http://archive.ubuntu.com/ubuntu jammy InRelease\n",
            "Hit:5 https://r2u.stat.illinois.edu/ubuntu jammy InRelease\n",
            "Get:6 http://archive.ubuntu.com/ubuntu jammy-updates InRelease [128 kB]\n",
            "Hit:7 https://ppa.launchpadcontent.net/deadsnakes/ppa/ubuntu jammy InRelease\n",
            "Hit:8 https://ppa.launchpadcontent.net/graphics-drivers/ppa/ubuntu jammy InRelease\n",
            "Hit:9 https://ppa.launchpadcontent.net/ubuntugis/ppa/ubuntu jammy InRelease\n",
            "Get:10 http://archive.ubuntu.com/ubuntu jammy-backports InRelease [127 kB]\n",
            "Get:11 http://archive.ubuntu.com/ubuntu jammy-updates/universe amd64 Packages [1,535 kB]\n",
            "Get:12 http://archive.ubuntu.com/ubuntu jammy-updates/main amd64 Packages [3,000 kB]\n",
            "Fetched 4,919 kB in 2s (2,473 kB/s)\n",
            "Reading package lists... Done\n",
            "W: Skipping acquire of configured file 'main/source/Sources' as repository 'https://r2u.stat.illinois.edu/ubuntu jammy InRelease' does not seem to provide it (sources.list entry misspelt?)\n",
            "Reading package lists... Done\n",
            "Building dependency tree... Done\n",
            "Reading state information... Done\n",
            "chromium-chromedriver is already the newest version (1:85.0.4183.83-0ubuntu2.22.04.1).\n",
            "0 upgraded, 0 newly installed, 0 to remove and 30 not upgraded.\n",
            "Requirement already satisfied: selenium in /usr/local/lib/python3.11/dist-packages (4.29.0)\n",
            "Requirement already satisfied: urllib3<3,>=1.26 in /usr/local/lib/python3.11/dist-packages (from urllib3[socks]<3,>=1.26->selenium) (2.3.0)\n",
            "Requirement already satisfied: trio~=0.17 in /usr/local/lib/python3.11/dist-packages (from selenium) (0.29.0)\n",
            "Requirement already satisfied: trio-websocket~=0.9 in /usr/local/lib/python3.11/dist-packages (from selenium) (0.12.2)\n",
            "Requirement already satisfied: certifi>=2021.10.8 in /usr/local/lib/python3.11/dist-packages (from selenium) (2025.1.31)\n",
            "Requirement already satisfied: typing_extensions~=4.9 in /usr/local/lib/python3.11/dist-packages (from selenium) (4.12.2)\n",
            "Requirement already satisfied: websocket-client~=1.8 in /usr/local/lib/python3.11/dist-packages (from selenium) (1.8.0)\n",
            "Requirement already satisfied: attrs>=23.2.0 in /usr/local/lib/python3.11/dist-packages (from trio~=0.17->selenium) (25.3.0)\n",
            "Requirement already satisfied: sortedcontainers in /usr/local/lib/python3.11/dist-packages (from trio~=0.17->selenium) (2.4.0)\n",
            "Requirement already satisfied: idna in /usr/local/lib/python3.11/dist-packages (from trio~=0.17->selenium) (3.10)\n",
            "Requirement already satisfied: outcome in /usr/local/lib/python3.11/dist-packages (from trio~=0.17->selenium) (1.3.0.post0)\n",
            "Requirement already satisfied: sniffio>=1.3.0 in /usr/local/lib/python3.11/dist-packages (from trio~=0.17->selenium) (1.3.1)\n",
            "Requirement already satisfied: wsproto>=0.14 in /usr/local/lib/python3.11/dist-packages (from trio-websocket~=0.9->selenium) (1.2.0)\n",
            "Requirement already satisfied: pysocks!=1.5.7,<2.0,>=1.5.6 in /usr/local/lib/python3.11/dist-packages (from urllib3[socks]<3,>=1.26->selenium) (1.7.1)\n",
            "Requirement already satisfied: h11<1,>=0.9.0 in /usr/local/lib/python3.11/dist-packages (from wsproto>=0.14->trio-websocket~=0.9->selenium) (0.14.0)\n",
            "Requirement already satisfied: webdriver-manager in /usr/local/lib/python3.11/dist-packages (4.0.2)\n",
            "Requirement already satisfied: requests in /usr/local/lib/python3.11/dist-packages (from webdriver-manager) (2.32.3)\n",
            "Requirement already satisfied: python-dotenv in /usr/local/lib/python3.11/dist-packages (from webdriver-manager) (1.0.1)\n",
            "Requirement already satisfied: packaging in /usr/local/lib/python3.11/dist-packages (from webdriver-manager) (24.2)\n",
            "Requirement already satisfied: charset-normalizer<4,>=2 in /usr/local/lib/python3.11/dist-packages (from requests->webdriver-manager) (3.4.1)\n",
            "Requirement already satisfied: idna<4,>=2.5 in /usr/local/lib/python3.11/dist-packages (from requests->webdriver-manager) (3.10)\n",
            "Requirement already satisfied: urllib3<3,>=1.21.1 in /usr/local/lib/python3.11/dist-packages (from requests->webdriver-manager) (2.3.0)\n",
            "Requirement already satisfied: certifi>=2017.4.17 in /usr/local/lib/python3.11/dist-packages (from requests->webdriver-manager) (2025.1.31)\n"
          ]
        }
      ],
      "source": [
        "import csv\n",
        "import sys\n",
        "import pandas as pd\n",
        "!pip install telethon\n",
        "!apt-get update\n",
        "!apt-get install -y chromium-chromedriver\n",
        "!pip install selenium\n",
        "!pip install webdriver-manager\n",
        "from telethon.sync import TelegramClient\n",
        "from telethon.tl.types import Message\n",
        "import asyncio\n",
        "from selenium import webdriver\n",
        "from selenium.webdriver.chrome.service import Service\n",
        "from webdriver_manager.chrome import ChromeDriverManager\n",
        "from selenium.webdriver.common.by import By\n",
        "from selenium.webdriver.chrome.options import Options\n",
        "import time"
      ]
    },
    {
      "cell_type": "markdown",
      "source": [
        "Функция для выгрузки данных из телеграмм каналов"
      ],
      "metadata": {
        "id": "oJYoMaghUnE7"
      }
    },
    {
      "cell_type": "code",
      "source": [
        "async def export_channel_posts(channel_username, api_id, api_hash, csv_filename='posts.csv'):\n",
        "    async with TelegramClient('session_name', api_id, api_hash) as client:\n",
        "        posts = []\n",
        "\n",
        "        async for message in client.iter_messages(channel_username):\n",
        "            if isinstance(message, Message) and message.message:\n",
        "                posts.append([message.id, message.date.strftime(\"%Y-%m-%d %H:%M:%S\"), message.message])\n",
        "\n",
        "        with open(csv_filename, 'w', encoding='utf-8', newline='') as file:\n",
        "            writer = csv.writer(file)\n",
        "            writer.writerow(['id', 'date', 'text'])\n",
        "            writer.writerows(posts)"
      ],
      "metadata": {
        "id": "zaDzVRCnVFne"
      },
      "execution_count": 40,
      "outputs": []
    },
    {
      "cell_type": "markdown",
      "source": [
        "Выгружаем данные"
      ],
      "metadata": {
        "id": "tkuzRBaAWxST"
      }
    },
    {
      "cell_type": "code",
      "source": [
        "channels=['https://t.me/infomoscow24', 'https://t.me/mos_sobyanin', 'https://t.me/interfaxonline']"
      ],
      "metadata": {
        "id": "bbnYPBGiW3EB"
      },
      "execution_count": 3,
      "outputs": []
    },
    {
      "cell_type": "code",
      "source": [
        "API_ID=''\n",
        "API_HASH=''"
      ],
      "metadata": {
        "id": "vukxWSZdXtpT"
      },
      "execution_count": 41,
      "outputs": []
    },
    {
      "cell_type": "code",
      "source": [
        "for i in range(len(channels)):\n",
        "  await export_channel_posts(channels[i],API_ID,API_HASH,str(i)+'posts.csv')"
      ],
      "metadata": {
        "colab": {
          "base_uri": "https://localhost:8080/"
        },
        "id": "0S8HsqCoX3Pa",
        "outputId": "b571536b-6ae0-4413-c7da-647cc43fdbae"
      },
      "execution_count": 20,
      "outputs": [
        {
          "output_type": "stream",
          "name": "stdout",
          "text": [
            "Please enter your phone (or bot token): +79859644955\n",
            "Please enter the code you received: 81901\n",
            "Please enter your password: ··········\n",
            "Signed in successfully as Kirill Dolgopol; remember to not break the ToS or you will risk an account ban!\n"
          ]
        }
      ]
    },
    {
      "cell_type": "markdown",
      "source": [
        "Оставляем только новости, касающиеся парковок"
      ],
      "metadata": {
        "id": "sVNcLBKSs75N"
      }
    },
    {
      "cell_type": "code",
      "source": [
        "def filter_csv_files(filenames, new_filename, filter_str):\n",
        "    import pandas as pd\n",
        "    filtered_dfs = []\n",
        "    for file in filenames:\n",
        "        df = pd.read_csv(file)\n",
        "        mask = df.iloc[:, 2].str.contains(filter_str, case=False, na=False)\n",
        "        filtered_dfs.append(df[mask])\n",
        "    result_df = pd.concat(filtered_dfs, ignore_index=True)\n",
        "    result_df.to_csv(new_filename, index=False, encoding=\"utf-8-sig\")"
      ],
      "metadata": {
        "id": "qBuiQdlwwKbT"
      },
      "execution_count": 31,
      "outputs": []
    },
    {
      "cell_type": "code",
      "source": [
        "filenames = [\"0posts.csv\", \"1posts.csv\", \"2posts.csv\"]"
      ],
      "metadata": {
        "id": "SshgsvAvvsmW"
      },
      "execution_count": 29,
      "outputs": []
    },
    {
      "cell_type": "code",
      "source": [
        "filter_csv_files(filenames,'parkovki.csv',r\"парковоч|парковк\")"
      ],
      "metadata": {
        "id": "Af20Ajh1wZ0M"
      },
      "execution_count": 32,
      "outputs": []
    },
    {
      "cell_type": "markdown",
      "source": [
        "Теперь смотрим еслть ли там где-то что-то связанное с сервисом, приложением и тд"
      ],
      "metadata": {
        "id": "CpAhlfo3uM6r"
      }
    },
    {
      "cell_type": "code",
      "source": [
        "filenames = [\"parkovki.csv\"]"
      ],
      "metadata": {
        "id": "NHGDAIwSw1AR"
      },
      "execution_count": 33,
      "outputs": []
    },
    {
      "cell_type": "code",
      "source": [
        "filter_csv_files(filenames,'servisi.csv',r\"сервис|прилож\")"
      ],
      "metadata": {
        "id": "NDVA25QOw6VD"
      },
      "execution_count": 34,
      "outputs": []
    },
    {
      "cell_type": "markdown",
      "source": [
        "Теперь смотрим что-то про свободные места"
      ],
      "metadata": {
        "id": "Zzg1MPCexNUp"
      }
    },
    {
      "cell_type": "code",
      "source": [
        "filenames = [\"servisi.csv\"]"
      ],
      "metadata": {
        "id": "-NXYiaBnxRHG"
      },
      "execution_count": 36,
      "outputs": []
    },
    {
      "cell_type": "code",
      "source": [
        "filter_csv_files(filenames,'mesta.csv',r\"свобод|пуст|занят\")"
      ],
      "metadata": {
        "id": "xrfTSfdIxUB6"
      },
      "execution_count": 37,
      "outputs": []
    },
    {
      "cell_type": "markdown",
      "source": [
        "Ручным просмотром новостей находим потенциальных конкурентов: сервисы \"Парковки России\" и \"Электронный дом\""
      ],
      "metadata": {
        "id": "bSmSV2RHx2Si"
      }
    },
    {
      "cell_type": "markdown",
      "source": [
        "Смотрим все объявления с этими сервисами в разделе парковки"
      ],
      "metadata": {
        "id": "jSfSke1Iy9Cn"
      }
    },
    {
      "cell_type": "code",
      "source": [
        "filter_csv_files(['parkovki.csv'],'parkovkirossii.csv',r\"Парковки России|парковки России\")"
      ],
      "metadata": {
        "id": "wVIVPmpuzCga"
      },
      "execution_count": 38,
      "outputs": []
    },
    {
      "cell_type": "code",
      "source": [
        "filter_csv_files(['parkovki.csv'],'elecdom.csv',r\"Электронный дом|электронный дом|Электронный Дом\")"
      ],
      "metadata": {
        "id": "eSPhWmsazdcU"
      },
      "execution_count": 39,
      "outputs": []
    }
  ]
}